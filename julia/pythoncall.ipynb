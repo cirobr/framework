{
 "cells": [
  {
   "cell_type": "code",
   "execution_count": null,
   "id": "11bcb7a8",
   "metadata": {},
   "outputs": [],
   "source": [
    "using Pkg\n",
    "Pkg.activate(\"./\")\n",
    "condaenv = \"torch\"   # Conda environment name\n",
    "\n",
    "# never installs conda packages from here. do it from terminal instead.\n",
    "ENV[\"JULIA_CONDAPKG_BACKEND\"] = \"Null\"\n",
    "# activate python executable\n",
    "ENV[\"JULIA_PYTHONCALL_EXE\"] = expanduser(\"~/miniconda3/envs/\" * condaenv * \"/bin/python3\")"
   ]
  },
  {
   "cell_type": "code",
   "execution_count": null,
   "id": "d7a02d08",
   "metadata": {},
   "outputs": [],
   "source": [
    "using PythonCall   # after the ENV calls\n",
    "pd = pyimport(\"pandas\")"
   ]
  }
 ],
 "metadata": {
  "kernelspec": {
   "display_name": "Julia 1.11.6",
   "language": "julia",
   "name": "julia-1.11"
  },
  "language_info": {
   "file_extension": ".jl",
   "mimetype": "application/julia",
   "name": "julia",
   "version": "1.11.6"
  }
 },
 "nbformat": 4,
 "nbformat_minor": 5
}
