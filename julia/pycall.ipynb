{
 "cells": [
  {
   "cell_type": "code",
   "execution_count": null,
   "id": "97bf1aaa",
   "metadata": {},
   "outputs": [],
   "source": [
    "# https://github.com/JuliaPy/PyCall.jl\n",
    "\n",
    "# setup python environment\n",
    "condaenv = \"tf\"\n",
    "\n",
    "using Pkg\n",
    "using PyCall\n",
    "ENV[\"PYTHON\"] = expanduser(\"~/miniconda3/envs/\" * condaenv * \"/bin/python3\")\n",
    "# ENV[\"PYTHON\"] = \"\"   # back to default conda/julia\n",
    "Pkg.build(\"PyCall\")"
   ]
  },
  {
   "cell_type": "code",
   "execution_count": null,
   "id": "da8d8d89",
   "metadata": {},
   "outputs": [],
   "source": [
    "# check environment (may need to reboot julia)\n",
    "display(PyCall.pyversion)\n",
    "display(PyCall.libpython)\n",
    "PyCall.pyprogramname"
   ]
  },
  {
   "cell_type": "code",
   "execution_count": null,
   "id": "8ab2fb59",
   "metadata": {},
   "outputs": [],
   "source": [
    "# import python libs\n",
    "# ros = pyimport(\"rosbag\")\n",
    "# rs2 = pyimport(\"pyrealsense2\")\n",
    "# bg  = pyimport(\"bagpy\")\n",
    "# cvb = pyimport(\"cv_bridge\")"
   ]
  }
 ],
 "metadata": {
  "kernelspec": {
   "display_name": "Julia 1.11.6",
   "language": "julia",
   "name": "julia-1.11"
  },
  "language_info": {
   "file_extension": ".jl",
   "mimetype": "application/julia",
   "name": "julia",
   "version": "1.11.6"
  }
 },
 "nbformat": 4,
 "nbformat_minor": 5
}
